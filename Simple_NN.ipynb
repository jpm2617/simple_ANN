{
 "cells": [
  {
   "cell_type": "markdown",
   "metadata": {
    "ExecuteTime": {
     "end_time": "2020-11-29T12:33:02.773236Z",
     "start_time": "2020-11-29T12:33:02.768804Z"
    }
   },
   "source": [
    "# My first neural net"
   ]
  },
  {
   "cell_type": "markdown",
   "metadata": {},
   "source": [
    "Date: 20/08/2019\n",
    "I decided to understand how the chain rule is applied on neural nets and I wrote this piece of code. "
   ]
  },
  {
   "cell_type": "code",
   "execution_count": null,
   "metadata": {},
   "outputs": [],
   "source": [
    "import numpy as np\n",
    "import matplotlib.pyplot as plt"
   ]
  },
  {
   "cell_type": "code",
   "execution_count": 6,
   "metadata": {
    "ExecuteTime": {
     "end_time": "2020-11-29T12:33:03.061149Z",
     "start_time": "2020-11-29T12:33:03.051031Z"
    }
   },
   "outputs": [],
   "source": [
    "#Activation functions\n",
    "def sigmoid(x):\n",
    "    return 1/(1 + np.exp(-x))\n",
    "\n",
    "#Derivative of the sigmoid function\n",
    "def sigmoid_prime(x):\n",
    "    return sigmoid(x)*(1.0 - sigmoid(x))\n"
   ]
  },
  {
   "cell_type": "code",
   "execution_count": 19,
   "metadata": {
    "ExecuteTime": {
     "end_time": "2020-11-29T12:36:08.131544Z",
     "start_time": "2020-11-29T12:36:08.097287Z"
    }
   },
   "outputs": [],
   "source": [
    "# Simple artificila neural net\n",
    "class ANN(object):\n",
    "    def __init__(self, architecture : np.ndarray):\n",
    "        # initialize neural_net\n",
    "        self.n = architecture\n",
    "        self.L = len(architecture) - 1\n",
    "      \n",
    "        # initialize neurons\n",
    "        self.a = {}\n",
    "        self.z = {}\n",
    "        \n",
    "        for n in range(0, self.L+1):\n",
    "            self.a[n]   = np.ones(shape=(self.n[n],1))\n",
    "            if n>0:\n",
    "                self.z[n]   = np.ones(shape=(self.n[n],1))\n",
    "    \n",
    "            \n",
    "        # initialize weights and bias    \n",
    "        self.w = {}\n",
    "        self.b = {}\n",
    "        \n",
    "        #initialize derivatives \n",
    "    \n",
    "        self.dcdz ={}\n",
    "        self.dzdw ={}\n",
    "        \n",
    "        self.dcdw ={}\n",
    "        self.dcdb ={}\n",
    "        \n",
    "        for n in range(1,self.L+1):\n",
    "            \n",
    "            # weights and bias\n",
    "            np.random.seed(seed=20)\n",
    "            self.w[n]      = np.random.randn(self.n[n],self.n[n - 1]) * np.sqrt(1/self.n[n])\n",
    "            self.b[n]      = np.ones((self.n[n],1))\n",
    "            \n",
    "            # chain rule derivatives \n",
    "            self.dcdz[n]   = np.random.randn(self.n[n],1)\n",
    "            self.dzdw[n]   = np.random.randn(self.n[n],1)\n",
    "            \n",
    "            # partial loss derivative\n",
    "            self.dcdw[n]   = np.random.randn(self.n[n],self.n[n-1])\n",
    "            self.dcdb[n]   = np.random.randn(self.n[n],1)\n",
    "            \n",
    "    \n",
    "    def forward_propagation(self,X_input):\n",
    "        # Sanity check\n",
    "        if len(X_input) != self.n[0]:\n",
    "            print(\"Check your input size - Code exit in foward propagation\")\n",
    "            return\n",
    "        \n",
    "        # Initialize first layer:\n",
    "        self.a[0] = X_input\n",
    "      \n",
    "        # Feed-forward propagation\n",
    "        for n in range(1,self.L + 1):\n",
    "            self.z[n] = np.add(np.dot(self.w[n],self.a[n-1]),self.b[n])\n",
    "            self.a[n] = sigmoid(self.z[n]) #sigmoid as activation function\n",
    "                                   \n",
    "    def compute_cost(self,Y_true): \n",
    "        \n",
    "        # calculate loss -> RME\n",
    "     #   loss = np.sum((self.a[self.L] - Y_true)**2.0)\n",
    "        \n",
    "        # calculate loss -> cross entropy\n",
    "        loss = np.sum((-Y_true*np.log(self.a[self.L]) + (1-Y_true)*np.log( 1 - self.a[self.L])))\n",
    "        \n",
    "        return loss\n",
    "\n",
    "    def compute_gradients(self,Y_true): \n",
    "        if len(Y_true) != self.n[self.L]:\n",
    "            print(\"Check your input size - Code exit in upgrade gradients\")\n",
    "            return \n",
    "\n",
    "        # Last layer\n",
    "        # root mean square error \n",
    "        #self.dcdz[self.L] = 2 * (self.a[self.L]- Y_true) * self.a[self.L] * (1 - self.a[self.L])\n",
    "        # cross entropy\n",
    "        self.dcdz[self.L] = np.add(self.a[self.L],-Y_true)\n",
    "        \n",
    "        \n",
    "        self.dzdw[self.L] = self.a[self.L-1]\n",
    "        self.dcdw[self.L] = np.dot(self.dcdz[self.L],np.transpose(self.dzdw[self.L])) \n",
    "        self.dcdb[self.L] = self.dcdz[self.L] \n",
    "        \n",
    "        # Hidden layers \n",
    "        for n in range(self.L-1, 0, -1):\n",
    "            self.dcdz[n] = np.dot(np.transpose(self.w[n+1]),self.dcdz[n+1]) * sigmoid_prime(self.z[n])\n",
    "            self.dzdw[n] = self.a[n-1]\n",
    "            self.dcdw[n] = np.dot(self.dcdz[n],np.transpose(self.dzdw[n])) \n",
    "            self.dcdb[n] = self.dcdz[n]\n",
    "   \n",
    "    def update_parameters(self,alpha):\n",
    "        # update weights\n",
    "        for n in range(1,self.L+1):\n",
    "            self.w[n] -= alpha*self.dcdw[n]\n",
    "            self.b[n] -= alpha*self.dcdb[n]\n",
    "            \n",
    "    def fit(self,X, y, epoch=50,alpha=0.001 ):\n",
    "        \n",
    "        ep = []\n",
    "        loss =[]\n",
    "        for j in range(0, epoch):\n",
    "            c = 0 #Stores the cost\n",
    "            for i in range(len(X)):\n",
    "                x_i = X[i].reshape(-1, 1)\n",
    "                y_i = y[i].reshape(-1, 1)\n",
    "                self.forward_propagation(x_i)\n",
    "                self.compute_gradients(y_i)\n",
    "                self.update_parameters(alpha)\n",
    "                c += self.compute_cost(y_i)\n",
    "            ep += [j]    \n",
    "            loss += [c/len(X)]\n",
    "        return ep, loss\n",
    "    \n",
    "    \n",
    "    def predict(self,X):\n",
    "        self.forward_propagation(X)\n",
    "        print(\"Prediction: %s\" %self.a[self.L]) \n",
    "        \n",
    "    def accuracy(self,X,y):\n",
    "        nc = 0\n",
    "        for i in range(len(X)):\n",
    "            x_i = X[i].reshape(-1, 1)\n",
    "            y_i = y[i]\n",
    "            self.forward_propagation(x_i)\n",
    "            if self.a[self.L] >= 0.5:\n",
    "                surv = 1\n",
    "            elif self.a[self.L] < 0.5:\n",
    "                surv = 0\n",
    "            if y_i == surv:\n",
    "                nc += 1   \n",
    "        print(\"Accuracy: %s\" %(nc/len(X)))\n",
    "    \n",
    "        \n",
    "            "
   ]
  },
  {
   "cell_type": "code",
   "execution_count": 20,
   "metadata": {
    "ExecuteTime": {
     "end_time": "2020-11-29T12:36:11.436258Z",
     "start_time": "2020-11-29T12:36:08.186654Z"
    }
   },
   "outputs": [],
   "source": [
    "from sklearn import datasets\n",
    "from sklearn.model_selection import train_test_split\n",
    "from sklearn.preprocessing import normalize\n",
    "\n",
    "n_samples = 1000\n",
    "df = datasets.make_moons(n_samples=n_samples, noise=.05)\n",
    "\n",
    "X_train, X_test, y_train, y_test = train_test_split(df[0], df[1], test_size=0.1, random_state=4)\n",
    "\n",
    "dataplot = np.transpose(X_train)\n",
    "\n",
    "myfirstnn1 = ANN([2,3,1])\n",
    "ep, loss = myfirstnn1.fit(X_train,y_train,epoch=20,alpha=0.005)"
   ]
  },
  {
   "cell_type": "code",
   "execution_count": 21,
   "metadata": {
    "ExecuteTime": {
     "end_time": "2020-11-29T12:36:11.724083Z",
     "start_time": "2020-11-29T12:36:11.487092Z"
    }
   },
   "outputs": [
    {
     "data": {
      "text/plain": [
       "[<matplotlib.lines.Line2D at 0x7f93c88feb00>]"
      ]
     },
     "execution_count": 21,
     "metadata": {},
     "output_type": "execute_result"
    },
    {
     "data": {
      "image/png": "[encoded data removed]",
      "text/plain": [
       "<Figure size 432x288 with 1 Axes>"
      ]
     },
     "metadata": {
      "needs_background": "light"
     },
     "output_type": "display_data"
    }
   ],
   "source": [
    "plt.plot(ep,loss)\n"
   ]
  },
  {
   "cell_type": "code",
   "execution_count": 22,
   "metadata": {
    "ExecuteTime": {
     "end_time": "2020-11-29T12:36:11.983268Z",
     "start_time": "2020-11-29T12:36:11.794691Z"
    }
   },
   "outputs": [
    {
     "name": "stdout",
     "output_type": "stream",
     "text": [
      "Accuracy: 0.8777777777777778\n"
     ]
    }
   ],
   "source": [
    "myfirstnn1.accuracy(X_train,y_train)\n"
   ]
  },
  {
   "cell_type": "code",
   "execution_count": 23,
   "metadata": {
    "ExecuteTime": {
     "end_time": "2020-11-29T12:38:15.212901Z",
     "start_time": "2020-11-29T12:36:12.100293Z"
    }
   },
   "outputs": [],
   "source": [
    "n_samples = 1500\n",
    "df = datasets.make_circles(n_samples=n_samples, noise=.05)\n",
    "\n",
    "X_train, X_test, y_train, y_test = train_test_split(df[0], df[1], test_size=0.1, random_state=4)\n",
    "\n",
    "dataplot = np.transpose(X_train)\n",
    "\n",
    "myfirstnn2 = ANN([2,3,1])\n",
    "ep, loss = myfirstnn2.fit(X_train,y_train,epoch=500,alpha=0.007)"
   ]
  },
  {
   "cell_type": "code",
   "execution_count": 24,
   "metadata": {
    "ExecuteTime": {
     "end_time": "2020-11-29T12:38:15.585932Z",
     "start_time": "2020-11-29T12:38:15.249086Z"
    }
   },
   "outputs": [
    {
     "data": {
      "text/plain": [
       "[<matplotlib.lines.Line2D at 0x7f93c886af98>]"
      ]
     },
     "execution_count": 24,
     "metadata": {},
     "output_type": "execute_result"
    },
    {
     "data": {
      "image/png": "[encoded data removed]",
      "text/plain": [
       "<Figure size 432x288 with 1 Axes>"
      ]
     },
     "metadata": {
      "needs_background": "light"
     },
     "output_type": "display_data"
    }
   ],
   "source": [
    "plt.plot(ep,loss)"
   ]
  },
  {
   "cell_type": "code",
   "execution_count": 25,
   "metadata": {
    "ExecuteTime": {
     "end_time": "2020-11-29T12:38:15.771438Z",
     "start_time": "2020-11-29T12:38:15.634512Z"
    }
   },
   "outputs": [
    {
     "name": "stdout",
     "output_type": "stream",
     "text": [
      "Accuracy: 0.9118518518518518\n"
     ]
    }
   ],
   "source": [
    "myfirstnn2.accuracy(X_train,y_train)"
   ]
  }
 ],
 "metadata": {
  "kernelspec": {
   "display_name": "Python 3",
   "language": "python",
   "name": "python3"
  },
  "language_info": {
   "codemirror_mode": {
    "name": "ipython",
    "version": 3
   },
   "file_extension": ".py",
   "mimetype": "text/x-python",
   "name": "python",
   "nbconvert_exporter": "python",
   "pygments_lexer": "ipython3",
   "version": "3.6.9"
  },
  "varInspector": {
   "cols": {
    "lenName": 16,
    "lenType": 16,
    "lenVar": 40
   },
   "kernels_config": {
    "python": {
     "delete_cmd_postfix": "",
     "delete_cmd_prefix": "del ",
     "library": "var_list.py",
     "varRefreshCmd": "print(var_dic_list())"
    },
    "r": {
     "delete_cmd_postfix": ") ",
     "delete_cmd_prefix": "rm(",
     "library": "var_list.r",
     "varRefreshCmd": "cat(var_dic_list()) "
    }
   },
   "types_to_exclude": [
    "module",
    "function",
    "builtin_function_or_method",
    "instance",
    "_Feature"
   ],
   "window_display": false
  }
 },
 "nbformat": 4,
 "nbformat_minor": 4
}
